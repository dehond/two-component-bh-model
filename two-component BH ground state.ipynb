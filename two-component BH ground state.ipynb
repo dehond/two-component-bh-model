{
 "cells": [
  {
   "cell_type": "markdown",
   "metadata": {},
   "source": [
    "## Two-component Bose-Hubbard model"
   ]
  },
  {
   "cell_type": "code",
   "execution_count": 1,
   "metadata": {},
   "outputs": [
    {
     "data": {
      "text/plain": [
       "Plots.PyPlotBackend()"
      ]
     },
     "execution_count": 1,
     "metadata": {},
     "output_type": "execute_result"
    }
   ],
   "source": [
    "using QuantumOptics\n",
    "using Plots\n",
    "using Arpack\n",
    "pyplot()"
   ]
  },
  {
   "cell_type": "markdown",
   "metadata": {},
   "source": [
    "Use the \"levels\" basis function to construct sites. The number of particles we specify is the number _per component_ so the total number of particles is 2`Nparticles`."
   ]
  },
  {
   "cell_type": "code",
   "execution_count": 64,
   "metadata": {},
   "outputs": [
    {
     "data": {
      "text/plain": [
       "ManyBody(onebodybasis=NLevel(N=6), states:462)"
      ]
     },
     "execution_count": 64,
     "metadata": {},
     "output_type": "execute_result"
    }
   ],
   "source": [
    "Nsites = 6\n",
    "Nparticles = 6\n",
    "a = NLevelBasis(Nsites)\n",
    "a_mb = ManyBodyBasis(a, bosonstates(a, Nparticles))\n",
    "b = NLevelBasis(Nsites)\n",
    "b_mb = ManyBodyBasis(b, bosonstates(b, Nparticles))"
   ]
  },
  {
   "cell_type": "code",
   "execution_count": 65,
   "metadata": {},
   "outputs": [],
   "source": [
    "single_tunnel = [transition(b, i, i + 1) for i in 1 : (Nsites - 1)]\n",
    "single_tunnel = [dagger.(single_tunnel) single_tunnel]\n",
    "ta = sum([manybodyoperator(a_mb, t) for t in single_tunnel]);\n",
    "tb = sum([manybodyoperator(b_mb, t) for t in single_tunnel]);\n",
    "\n",
    "total_tunnel = (ta ⊗ identityoperator(b_mb)) + (identityoperator(a_mb) ⊗ tb)\n",
    "intracomponent_interaction = sum([ identityoperator(a_mb) ⊗ ( number(b_mb, i) * (number(b_mb, i) - identityoperator(b_mb)) ) for i in 1:Nsites ])\n",
    "intracomponent_interaction += sum([ ( number(a_mb, i ) * ( number(a_mb, i) - identityoperator(a_mb) ) ⊗ identityoperator(b_mb) ) for i in 1:Nsites ])\n",
    "intercomponent_interaction = sum([ number(a_mb, i) ⊗ number(b_mb, i) for i in 1:Nsites ]);"
   ]
  },
  {
   "cell_type": "code",
   "execution_count": 66,
   "metadata": {},
   "outputs": [],
   "source": [
    "H(t, U, UAB) = -t * total_tunnel + U * intracomponent_interaction + UAB * intercomponent_interaction;"
   ]
  },
  {
   "cell_type": "markdown",
   "metadata": {},
   "source": [
    "Or with the energy in units of $t$:"
   ]
  },
  {
   "cell_type": "code",
   "execution_count": 67,
   "metadata": {},
   "outputs": [],
   "source": [
    "H(U, UAB) = -total_tunnel + U/2 * intracomponent_interaction + UAB * intercomponent_interaction;"
   ]
  },
  {
   "cell_type": "markdown",
   "metadata": {},
   "source": [
    "We parametrize as follows:\n",
    "$$\n",
    "    a = U_{AB} / U \\\\\n",
    "    b = U / t\n",
    "$$"
   ]
  },
  {
   "cell_type": "markdown",
   "metadata": {},
   "source": [
    "### Calculate phase diagram via gap size"
   ]
  },
  {
   "cell_type": "markdown",
   "metadata": {},
   "source": [
    "Instead of using the `eigenenergies()` function from `QuantumOptics.jl` we get the raw matrix from the operator, and use ARPACK's `eigs()` function. For some parameters the default number of evaluations (300) is not large enough, and this will allow us to override that setting."
   ]
  },
  {
   "cell_type": "code",
   "execution_count": 82,
   "metadata": {},
   "outputs": [],
   "source": [
    "function gap(a, b)\n",
    "    #energies = eigenenergies(H( b, a*b ), 2, info = false)\n",
    "    energies, ϕ = eigs(H(b, a*b).data, nev = 2, which = :SR, maxiter = 1000)\n",
    "    real(energies[2] - energies[1])\n",
    "end;"
   ]
  },
  {
   "cell_type": "code",
   "execution_count": 83,
   "metadata": {},
   "outputs": [],
   "source": [
    "function gapWrite(a, b)\n",
    "    gapdum = gap(a,b)\n",
    "    io = open(\"gap_results.txt\", \"a\")\n",
    "    write(io, string(b, \"\\t\", a, \"\\t\", gapdum, \"\\n\"))\n",
    "    close(io)\n",
    "    return gapdum\n",
    "end;"
   ]
  },
  {
   "cell_type": "code",
   "execution_count": 85,
   "metadata": {},
   "outputs": [
    {
     "name": "stdout",
     "output_type": "stream",
     "text": [
      "4497.439412 seconds (886.87 k allocations: 13.528 GiB, 0.06% gc time)\n"
     ]
    }
   ],
   "source": [
    "uRatios = [0:0.05:1.2;]\n",
    "dimlessUs = [14.5:0.5:15;]\n",
    "\n",
    "X = repeat(reshape(dimlessUs, 1, :), length(uRatios), 1)\n",
    "Y = repeat(uRatios, 1, length(dimlessUs))\n",
    "@time gapdata = map(gapWrite, Y, X);"
   ]
  },
  {
   "cell_type": "markdown",
   "metadata": {},
   "source": [
    "Plotted using matplotlib in Python, since I cannot figure out how to change the color scale for instance in Julia:"
   ]
  },
  {
   "cell_type": "markdown",
   "metadata": {},
   "source": [
    "<img src=\"data:image/png;base64,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\">"
   ]
  },
  {
   "cell_type": "markdown",
   "metadata": {},
   "source": [
    "### Calculate spin-paired doublon fraction for fixed $U/t$"
   ]
  },
  {
   "cell_type": "markdown",
   "metadata": {},
   "source": [
    "We need to define an operator that projects out the state with one $a$ and one $b$ boson on site $i$. This is what we call the spin-paired doublon fraction. We can average this over all sites to get the system-averaged number."
   ]
  },
  {
   "cell_type": "code",
   "execution_count": 187,
   "metadata": {},
   "outputs": [
    {
     "data": {
      "text/plain": [
       "spdfOp (generic function with 1 method)"
      ]
     },
     "execution_count": 187,
     "metadata": {},
     "output_type": "execute_result"
    }
   ],
   "source": [
    "function spdfOp(i)\n",
    "    numberOp = number(a_mb, i).data    # Start with the many-body number operator acting on site i\n",
    "    projectHalfBasis = (real(numberOp) .== 1.0)    # Find states in the number operator that have a single particle on site i\n",
    "    projectFullBasis = SparseOperator(a_mb, projectHalfBasis) ⊗ SparseOperator(b_mb, projectHalfBasis)    # Construct operator that filters out with one \"a\" and one \"b\" particle on site i\n",
    "end"
   ]
  },
  {
   "cell_type": "markdown",
   "metadata": {},
   "source": [
    "To show how this works, we define a state with clearly defined spin pairs. We see there are two sites with one particle of each species. These are spin-paired doublons."
   ]
  },
  {
   "cell_type": "code",
   "execution_count": 191,
   "metadata": {},
   "outputs": [],
   "source": [
    "Ψ0 = basisstate(a_mb, [1, 4, 1, 0, 0, 0]) ⊗ basisstate(b_mb, [1, 4, 1, 0, 0, 0]);"
   ]
  },
  {
   "cell_type": "markdown",
   "metadata": {},
   "source": [
    "We calculate the spin-paired doublon fraction by summing the expectation value of `spdfOp` over all sites, and taking the average:"
   ]
  },
  {
   "cell_type": "code",
   "execution_count": 193,
   "metadata": {},
   "outputs": [
    {
     "data": {
      "text/plain": [
       "0.3333333333333333 + 0.0im"
      ]
     },
     "execution_count": 193,
     "metadata": {},
     "output_type": "execute_result"
    }
   ],
   "source": [
    "sum([expect(spdfOp(i), Ψ0) for i in 1:Nsites])/Nsites"
   ]
  },
  {
   "cell_type": "markdown",
   "metadata": {},
   "source": [
    "Now for real. We get the ground state and evaluate the same expression:"
   ]
  },
  {
   "cell_type": "code",
   "execution_count": 232,
   "metadata": {},
   "outputs": [
    {
     "data": {
      "text/plain": [
       "getSPDF (generic function with 1 method)"
      ]
     },
     "execution_count": 232,
     "metadata": {},
     "output_type": "execute_result"
    }
   ],
   "source": [
    "function getSPDF(a, b)\n",
    "    #eigsol = eigenstates(H(b, a*b), 2, info = false);\n",
    "    energies, ϕ = eigs(H(b, a*b).data, nev = 2, which = :SR, maxiter = 1000)\n",
    "    gs = Ket(a_mb ⊗ b_mb, ϕ[:, 1]);\n",
    "    sum([expect(spdfOp(i), gs) for i in 1:Nsites])/Nsites\n",
    "end"
   ]
  },
  {
   "cell_type": "code",
   "execution_count": null,
   "metadata": {},
   "outputs": [],
   "source": [
    "uRatios = [0:0.1:1;]\n",
    "dimlessU = 7.5\n",
    "spdfs = [getSPDF(ur, dimlessU) for ur in uRatios];"
   ]
  },
  {
   "cell_type": "code",
   "execution_count": 258,
   "metadata": {},
   "outputs": [
    {
     "data": {
      "image/png": "[encoded data removed]"
     },
     "execution_count": 258,
     "metadata": {},
     "output_type": "execute_result"
    }
   ],
   "source": [
    "plot(uRatios, real(spdfs))"
   ]
  },
  {
   "cell_type": "code",
   "execution_count": 259,
   "metadata": {},
   "outputs": [],
   "source": [
    "io = open(\"spdf_results.txt\", \"a\")\n",
    "for i in 1:length(uRatios)\n",
    "    write(io, string(dimlessU, \"\\t\", uRatios[i], \"\\t\", real(spdfs[i]), \"\\n\"))\n",
    "end\n",
    "close(io)"
   ]
  }
 ],
 "metadata": {
  "kernelspec": {
   "display_name": "Julia 1.4.2",
   "language": "julia",
   "name": "julia-1.4"
  },
  "language_info": {
   "file_extension": ".jl",
   "mimetype": "application/julia",
   "name": "julia",
   "version": "1.4.2"
  },
  "widgets": {
   "application/vnd.jupyter.widget-state+json": {
    "state": {},
    "version_major": 2,
    "version_minor": 0
   }
  }
 },
 "nbformat": 4,
 "nbformat_minor": 4
}
